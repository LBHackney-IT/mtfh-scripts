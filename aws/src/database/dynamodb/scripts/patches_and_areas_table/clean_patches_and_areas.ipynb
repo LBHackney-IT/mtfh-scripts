{
 "cells": [
  {
   "cell_type": "code",
   "execution_count": 1,
   "metadata": {
    "collapsed": true,
    "ExecuteTime": {
     "end_time": "2023-10-10T08:23:46.672173748Z",
     "start_time": "2023-10-10T08:23:16.566404665Z"
    }
   },
   "outputs": [
    {
     "name": "stdout",
     "output_type": "stream",
     "text": [
      "Attempting to automatically open the SSO authorization page in your default browser.\n",
      "If the browser does not open or you wish to use a different device to authorize this request, open the following URL:\n",
      "\n",
      "https://device.sso.eu-west-1.amazonaws.com/\n",
      "\n",
      "Then enter the code:\n",
      "\n",
      "QHHB-VVTG\n",
      "Successfully logged into Start URL: https://hackney.awsapps.com/start#\n",
      "Stage / AWS Profile: [housing-development]\n",
      "Account ID: 364864573329\n",
      "Assumed Role: AWSReservedSSO_mtfh_developer_4658dde898517097\n",
      "User: adam.tracy@hackney.gov.uk\n",
      "Connected to DynamoDB table PatchesAndAreas\n",
      "WARNING: responsibleEntities from Patch not in data\n"
     ]
    }
   ],
   "source": [
    "from aws.src.database.dynamodb.utils.get_dynamodb_table import get_dynamodb_table\n",
    "from enums.enums import Stage\n",
    "from aws.src.database.domain.dynamo_domain_objects import Patch\n",
    "\n",
    "table = get_dynamodb_table(\"PatchesAndAreas\", Stage.HOUSING_DEVELOPMENT)\n",
    "patches_raw = table.scan()[\"Items\"]\n",
    "patches = [Patch.from_data(patch) for patch in patches_raw]"
   ]
  },
  {
   "cell_type": "code",
   "execution_count": 5,
   "outputs": [
    {
     "name": "stdout",
     "output_type": "stream",
     "text": [
      "Unique Areas: ['CL Area', 'CP Area', 'HN1 Area', 'HN2 Area', 'SD Area', 'SH Area', 'SN Area']\n",
      "Unique Patches: ['CL1', 'CL2', 'CL3', 'CL4', 'CL5', 'CL6', 'CL7', 'CP1', 'CP2', 'CP3', 'CP4', 'CP5', 'CP6', 'CP7', 'HN1', 'HN10', 'HN11', 'HN2', 'HN3', 'HN4', 'HN5', 'HN6', 'HN7', 'HN8', 'HN9', 'SD1', 'SD2', 'SD3', 'SD4', 'SD5', 'SD6', 'SD7', 'SD8', 'SD9', 'SH1', 'SH2', 'SH3', 'SH4', 'SH5', 'SH6', 'SN1', 'SN2', 'SN3', 'SN4', 'SN5', 'SN7', 'SN8']\n"
     ]
    }
   ],
   "source": [
    "areas = [patch for patch in patches if patch.patchType == \"area\"]\n",
    "patches_only = [patch for patch in patches if patch.patchType == \"patch\"]\n",
    "\n",
    "unique_areas_names = set([area.name for area in areas])\n",
    "unique_areas: list[Patch] = []\n",
    "for name in unique_areas_names:\n",
    "    area = [area for area in areas if area.name == name][0]\n",
    "    unique_areas.append(area)\n",
    "\n",
    "\n",
    "unique_patch_names = set([patch.name for patch in patches_only])\n",
    "unique_patches: list[Patch] = []\n",
    "for patch_name in unique_patch_names:\n",
    "    patch = [patch for patch in patches_only if patch.name == patch_name][0]\n",
    "    unique_patches.append(patch)\n",
    "\n",
    "unique_patches.sort(key = lambda x: x.name)\n",
    "unique_areas.sort(key = lambda x: x.name)\n",
    "\n",
    "print(f\"Unique Areas: {[area.name for area in unique_areas]}\")\n",
    "print(f\"Unique Patches: {[patch.name for patch in unique_patches]}\")"
   ],
   "metadata": {
    "collapsed": false,
    "ExecuteTime": {
     "end_time": "2023-10-10T08:26:21.237608455Z",
     "start_time": "2023-10-10T08:26:21.234022269Z"
    }
   }
  },
  {
   "cell_type": "code",
   "execution_count": 6,
   "outputs": [
    {
     "name": "stdout",
     "output_type": "stream",
     "text": [
      "Area: CL Area has patches ['CL1', 'CL2', 'CL3', 'CL4', 'CL5', 'CL6', 'CL7']\n",
      "Area: CP Area has patches ['CP1', 'CP2', 'CP3', 'CP4', 'CP5', 'CP6', 'CP7']\n",
      "Area: HN1 Area has patches ['HN10', 'HN11', 'HN2', 'HN5', 'HN8', 'HN9']\n",
      "Area: HN2 Area has patches ['HN1', 'HN3', 'HN4', 'HN6', 'HN7']\n",
      "Area: SD Area has patches ['SD1', 'SD2', 'SD3', 'SD4', 'SD5', 'SD6', 'SD7', 'SD8', 'SD9']\n",
      "Area: SH Area has patches ['SH1', 'SH2', 'SH3', 'SH4', 'SH5', 'SH6']\n",
      "Area: SN Area has patches ['SN1', 'SN2', 'SN3', 'SN4', 'SN5', 'SN7', 'SN8']\n"
     ]
    }
   ],
   "source": [
    "# Map unique patches to unique areas for each area code\n",
    "\n",
    "# Handle HN1 and HN2 separately\n",
    "hn1_area = [area for area in unique_areas if area.name == \"HN1 Area\"][0]\n",
    "hn2_area = [area for area in unique_areas if area.name == \"HN2 Area\"][0]\n",
    "\n",
    "hn1_patch_names = [f\"HN{i}\" for i in [2, 5, 8, 9, 10, 11]]\n",
    "hn2_patch_names = [f\"HN{i}\" for i in [1, 3, 4, 6, 7]]\n",
    "\n",
    "hn_patches = [patch for patch in unique_patches if \"HN\" in patch.name]\n",
    "for patch in hn_patches:\n",
    "    if patch.name in hn1_patch_names:\n",
    "        patch.parentId = hn1_area.id\n",
    "    elif patch.name in hn2_patch_names:\n",
    "        patch.parentId = hn2_area.id\n",
    "    else:\n",
    "        print(f\"Patch {patch.name} not found in HN1 or HN2\")\n",
    "        break\n",
    "\n",
    "other_patches = [patch for patch in unique_patches if \"HN\" not in patch.name]\n",
    "other_areas = [area for area in unique_areas if area.name not in [\"HN1 Area\", \"HN2 Area\"]]\n",
    "for area in unique_areas:\n",
    "    area_code = area.name.replace(\" Area\", \"\")\n",
    "    area_patches = [patch for patch in other_patches if area_code == patch.name[0:2]]\n",
    "    for patch in area_patches:\n",
    "        patch.parentId = area.id\n",
    "\n",
    "for area in unique_areas:\n",
    "    patches_with_area = [patch.name for patch in unique_patches if patch.parentId == area.id]\n",
    "    print(f\"Area: {area.name} has patches {patches_with_area}\")"
   ],
   "metadata": {
    "collapsed": false,
    "ExecuteTime": {
     "end_time": "2023-10-10T08:26:39.808477955Z",
     "start_time": "2023-10-10T08:26:39.803256697Z"
    }
   }
  },
  {
   "cell_type": "code",
   "execution_count": 12,
   "outputs": [
    {
     "name": "stdout",
     "output_type": "stream",
     "text": [
      "Deleting 24/31 areas and 182/236 patches\n",
      "Keeping 54 areas and 54 patches\n"
     ]
    },
    {
     "ename": "AssertionError",
     "evalue": "Delete aborted",
     "output_type": "error",
     "traceback": [
      "\u001B[0;31m---------------------------------------------------------------------------\u001B[0m",
      "\u001B[0;31mAssertionError\u001B[0m                            Traceback (most recent call last)",
      "Cell \u001B[0;32mIn[12], line 26\u001B[0m\n\u001B[1;32m     23\u001B[0m \u001B[38;5;28mprint\u001B[39m(\u001B[38;5;124mf\u001B[39m\u001B[38;5;124m\"\u001B[39m\u001B[38;5;124mKeeping \u001B[39m\u001B[38;5;132;01m{\u001B[39;00m\u001B[38;5;28mlen\u001B[39m(unique_area_ids)\u001B[38;5;132;01m}\u001B[39;00m\u001B[38;5;124m areas and \u001B[39m\u001B[38;5;132;01m{\u001B[39;00m\u001B[38;5;28mlen\u001B[39m(unique_patch_ids)\u001B[38;5;132;01m}\u001B[39;00m\u001B[38;5;124m patches\u001B[39m\u001B[38;5;124m\"\u001B[39m)\n\u001B[1;32m     25\u001B[0m res \u001B[38;5;241m=\u001B[39m \u001B[38;5;28minput\u001B[39m(\u001B[38;5;124m\"\u001B[39m\u001B[38;5;124mConfirm delete? (y/n): \u001B[39m\u001B[38;5;124m\"\u001B[39m)\n\u001B[0;32m---> 26\u001B[0m \u001B[38;5;28;01massert\u001B[39;00m res\u001B[38;5;241m.\u001B[39mlower() \u001B[38;5;129;01min\u001B[39;00m [\u001B[38;5;124m\"\u001B[39m\u001B[38;5;124my\u001B[39m\u001B[38;5;124m\"\u001B[39m, \u001B[38;5;124m\"\u001B[39m\u001B[38;5;124myes\u001B[39m\u001B[38;5;124m\"\u001B[39m], \u001B[38;5;124m\"\u001B[39m\u001B[38;5;124mDelete aborted\u001B[39m\u001B[38;5;124m\"\u001B[39m\n\u001B[1;32m     28\u001B[0m \u001B[38;5;28;01mfor\u001B[39;00m area_id \u001B[38;5;129;01min\u001B[39;00m area_ids_to_delete:\n\u001B[1;32m     29\u001B[0m     table\u001B[38;5;241m.\u001B[39mdelete_item(Key\u001B[38;5;241m=\u001B[39m{\u001B[38;5;124m\"\u001B[39m\u001B[38;5;124mid\u001B[39m\u001B[38;5;124m\"\u001B[39m: area_id})\n",
      "\u001B[0;31mAssertionError\u001B[0m: Delete aborted"
     ]
    }
   ],
   "source": [
    "# Update the database with the parent Ids of the patches\n",
    "\n",
    "for patch in unique_patches:\n",
    "    table.update_item(\n",
    "        Key={\"id\": patch.id},\n",
    "        UpdateExpression=\"SET parentId = :parentId\",\n",
    "        ExpressionAttributeValues={\":parentId\": patch.parentId},\n",
    "    )\n",
    "\n",
    "# Delete all items in the table that aren't in the unique patches and unique areas\n",
    "unique_patches_and_areas = unique_patches + unique_areas\n",
    "\n",
    "all_area_ids = [area.id for area in areas]\n",
    "unique_area_ids = [area.id for area in unique_patches_and_areas]\n",
    "\n",
    "all_patch_ids = [patch.id for patch in patches]\n",
    "unique_patch_ids = [patch.id for patch in unique_patches_and_areas]\n",
    "\n",
    "area_ids_to_delete = [area_id for area_id in all_area_ids if area_id not in unique_area_ids]\n",
    "patch_ids_to_delete = [patch_id for patch_id in all_patch_ids if patch_id not in unique_patch_ids]\n",
    "\n",
    "print(f\"Deleting {len(area_ids_to_delete)}/{len(all_area_ids)} areas and {len(patch_ids_to_delete)}/{len(all_patch_ids)} patches\")\n",
    "print(f\"Keeping {len(unique_area_ids)} areas and {len(unique_patch_ids)} patches\")\n",
    "\n",
    "res = input(\"Confirm delete? (y/n): \")\n",
    "assert res.lower() in [\"y\", \"yes\"], \"Delete aborted\"\n",
    "\n",
    "for area_id in area_ids_to_delete:\n",
    "    table.delete_item(Key={\"id\": area_id})\n",
    "\n",
    "for patch_id in patch_ids_to_delete:\n",
    "    table.delete_item(Key={\"id\": patch_id})"
   ],
   "metadata": {
    "collapsed": false,
    "ExecuteTime": {
     "end_time": "2023-10-10T08:44:00.966183013Z",
     "start_time": "2023-10-10T08:43:56.985466824Z"
    }
   }
  }
 ],
 "metadata": {
  "kernelspec": {
   "display_name": "Python 3",
   "language": "python",
   "name": "python3"
  },
  "language_info": {
   "codemirror_mode": {
    "name": "ipython",
    "version": 2
   },
   "file_extension": ".py",
   "mimetype": "text/x-python",
   "name": "python",
   "nbconvert_exporter": "python",
   "pygments_lexer": "ipython2",
   "version": "2.7.6"
  }
 },
 "nbformat": 4,
 "nbformat_minor": 0
}
